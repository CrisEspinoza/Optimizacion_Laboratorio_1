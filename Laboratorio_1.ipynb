{
 "cells": [
  {
   "cell_type": "markdown",
   "metadata": {},
   "source": [
    "$\\color{red}{\\text{Autor:}}$ $\\color{blue}{\\text{Cristian Espinoza Silva}}$"
   ]
  },
  {
   "cell_type": "code",
   "execution_count": null,
   "metadata": {},
   "outputs": [],
   "source": [
    "# Realizamos las importaciones de los paquetes que necesitamos para el desarrollo del presente laboratorio.\n",
    "import Pkg\n",
    "Pkg.add(\"JuMP\") # Instala el paquete JuMP\n",
    "Pkg.add(\"GLPK\") # Instala el paquete GLPK"
   ]
  },
  {
   "cell_type": "code",
   "execution_count": 6,
   "metadata": {},
   "outputs": [],
   "source": [
    "# Utilizamos las librias instaladas:\n",
    "\n",
    "using JuMP\n",
    "using GLPK "
   ]
  },
  {
   "cell_type": "markdown",
   "metadata": {},
   "source": [
    "$\\color{red}{\\text{Problema 1:}}$ $\\color{green}{\\text{Selección de portafolio}}$ "
   ]
  },
  {
   "cell_type": "markdown",
   "metadata": {},
   "source": [
    "Un consultor en finanzas requiere elegir para uno de sus clientes un conjunto de acciones\n",
    "en las cuales invertir. El cliente desea invertir € 100.000 en 6 diferentes acciones. El consultor\n",
    "estima el retorno sobre la inversión (ROI) que el cliente puede obtener en un período de seis\n",
    "meses. La tabla nro. 1 muestra para cada acción, su país de origen, la categoría (T: tecnológicas, N:\n",
    "no tecnológicas) y el ROI esperado. "
   ]
  },
  {
   "cell_type": "markdown",
   "metadata": {},
   "source": [
    "\n"
   ]
  },
  {
   "cell_type": "markdown",
   "metadata": {},
   "source": [
    "El cliente especifica ciertas restricciones. Pide invertir al menos 5.000 € y como máximo € 40,000 en cada una de las acciones. Además, desea invertir al menos la mitad de su capital en acciones europeas y como mucho 30% en acciones tecnológicas. ¿Cómo debe dividirse el capital entre las acciones para obtener el mayor ROI?"
   ]
  },
  {
   "cell_type": "code",
   "execution_count": 5,
   "metadata": {},
   "outputs": [
    {
     "name": "stdout",
     "output_type": "stream",
     "text": [
      "El valor objetivo optimo de la funcion es: 5755.0\n",
      "Variable X1 = 5000.0\n",
      "Variable X2 = 20000.0\n",
      "Variable X3 = 5000.0\n",
      "Variable X4 = 25000.0\n",
      "Variable X5 = 40000.0\n",
      "Variable X6 = 5000.0\n"
     ]
    }
   ],
   "source": [
    "# Realizamos la declaración para realizar el modelamiento del problema numero 1.\n",
    "\n",
    "modelo_problema_1 = Model(with_optimizer(GLPK.Optimizer))\n",
    "\n",
    "# Se realiza la declaracion de las variables que es van a utilizar dentro del problema.\n",
    "\n",
    "@variable(modelo_problema_1, x_p1[1:6] >= 0)\n",
    "\n",
    "\n",
    "# Se declara la función objetiva del problema.\n",
    "\n",
    "@objective(modelo_problema_1, Max, (5.3/100)*x_p1[1] + (6.2/100)*x_p1[2] + (5.1/100)*x_p1[3] + (4.9/100)*x_p1[4] + (6.5/100)*x_p1[5] + (3.4/100)*x_p1[6])\n",
    "\n",
    "# Se realiza la declaracion de cada una de las restricciones que tendra el problema.\n",
    "\n",
    "@constraint(modelo_problema_1, 5000 <= x_p1[1] <= 40000)\n",
    "@constraint(modelo_problema_1, 5000 <= x_p1[2] <= 40000)\n",
    "@constraint(modelo_problema_1, 5000 <= x_p1[3] <= 40000)\n",
    "@constraint(modelo_problema_1, 5000 <= x_p1[4] <= 40000)\n",
    "@constraint(modelo_problema_1, 5000 <= x_p1[5] <= 40000)\n",
    "@constraint(modelo_problema_1, 5000 <= x_p1[6] <= 40000)\n",
    "\n",
    "@constraint(modelo_problema_1, x_p1[1] + x_p1[2] + x_p1[3] <= 30000)\n",
    "@constraint(modelo_problema_1, x_p1[1] + x_p1[3] + x_p1[5] + x_p1[6] >= 50000)\n",
    "@constraint(modelo_problema_1, x_p1[1] + x_p1[2] + x_p1[3 ]+ x_p1[4] + x_p1[5] + x_p1[6] == 100000)\n",
    "\n",
    "# Se encarga de resolver el modelo\n",
    "\n",
    "optimize!(modelo_problema_1)\n",
    "\n",
    "# Calcula el valor optimo del problema\n",
    "\n",
    "valorObjetivo_P1 = objective_value(modelo_problema_1)\n",
    "\n",
    "# # Entrega valor de estado de término del modelo. Donde los resultados que puede entregar son los siguientes\n",
    "#1 = óptimo\n",
    "#2 = infactible.\n",
    " \n",
    "termination_status(modelo_problema_1)\n",
    "\n",
    "# Se procede a mostrar la salida pedida para el problema en cuestión.\n",
    "\n",
    "print(\"El valor objetivo optimo de la funcion es: \")\n",
    "println(valorObjetivo_P1)\n",
    "\n",
    "for i in 1:6\n",
    "    println(\"Variable X\",i,\" = \",value(x_p1[i]))\n",
    "end"
   ]
  },
  {
   "cell_type": "markdown",
   "metadata": {},
   "source": [
    "$\\color{red}{\\text{Problema 2:}}$ $\\color{green}{\\text{Producción de aleaciones}}$ "
   ]
  },
  {
   "cell_type": "markdown",
   "metadata": {},
   "source": [
    "Una empresa siderúrgica ha recibido un pedido de 500 toneladas de acero destinado a la\n",
    "construcción naval. El acero, debe cumplir con los siguientes requisitos porcentuales en su\n",
    "composición. "
   ]
  },
  {
   "cell_type": "code",
   "execution_count": null,
   "metadata": {},
   "outputs": [],
   "source": []
  },
  {
   "cell_type": "markdown",
   "metadata": {},
   "source": [
    "La empresa cuenta con siete materias primas diferentes en stock que pueden ser utilizadas\n",
    "para la producción del acero. En tabla nro. 3 se enumeran los porcentajes, las cantidades\n",
    "disponibles y los precios de todas las materias primas. "
   ]
  },
  {
   "cell_type": "code",
   "execution_count": null,
   "metadata": {},
   "outputs": [],
   "source": []
  },
  {
   "cell_type": "markdown",
   "metadata": {},
   "source": [
    "El objetivo es determinar la composición de la aleación de acero que minimice el costo de\n",
    "producción."
   ]
  },
  {
   "cell_type": "code",
   "execution_count": 18,
   "metadata": {},
   "outputs": [
    {
     "name": "stdout",
     "output_type": "stream",
     "text": [
      "El valor objetivo optimo de la funcion es: 98121.6357916812\n",
      "Variable X1 = 399.9999999999999\n",
      "Variable X2 = 0.0\n",
      "Variable X3 = 39.7763019923103\n",
      "Variable X4 = 0.0\n",
      "Variable X5 = 2.761272282418734\n",
      "Variable X6 = 57.46242572527089\n",
      "Variable X7 = 0.0\n"
     ]
    }
   ],
   "source": [
    "# Realizamos la declaración para realizar el modelamiento del problema numero 2.\n",
    "\n",
    "modelo_problema_2 = Model(with_optimizer(GLPK.Optimizer))\n",
    "\n",
    "# Se realiza la declaracion de las variables que es van a utilizar dentro del problema.\n",
    "\n",
    "@variable(modelo_problema_2, x_p2[1:7] >= 0)\n",
    "\n",
    "# Se declara la función objetiva del problema.\n",
    "\n",
    "@objective(modelo_problema_2, Min, 200*x_p2[1] + 250*x_p2[2] + 150*x_p2[3] + 220*x_p2[4] + 240*x_p2[5] +200*x_p2[6] + 165*x_p2[7])\n",
    "\n",
    "# Se realiza la declaracion de cada una de las restricciones que tendra el problema.\n",
    "\n",
    "@constraint(modelo_problema_2, 0.025*x_p2[1] + 0.03*x_p2[2] >= 0.02*(x_p2[1] + x_p2[2] + x_p2[3] + x_p2[4] + x_p2[5] + x_p2[6] + x_p2[7]))\n",
    "@constraint(modelo_problema_2, 0.003*x_p2[3] + 0.9*x_p2[4] + 0.96*x_p2[5] + 0.004*x_p2[6] + 0.006*x_p2[7] >= 0.004*(x_p2[1] + x_p2[2] + x_p2[3] + x_p2[4] + x_p2[5] + x_p2[6] + x_p2[7]))\n",
    "@constraint(modelo_problema_2, 0.013*x_p2[1] + 0.008*x_p2[2] + 0.04*x_p2[5] + 0.012*x_p2[6] >= 0.012*(x_p2[1] + x_p2[2] + x_p2[3] + x_p2[4] + x_p2[5] + x_p2[6] + x_p2[7]))\n",
    "@constraint(modelo_problema_2, 0.025*x_p2[1] + 0.003*x_p2[2] <= 0.03*(x_p2[1] + x_p2[2] + x_p2[3] + x_p2[4] + x_p2[5] + x_p2[6] + x_p2[7]))\n",
    "@constraint(modelo_problema_2, 0.003*x_p2[3] + 0.9*x_p2[4] + 0.96*x_p2[5] + 0.004*x_p2[6] + 0.006*x_p2[7] <= 0.006*(x_p2[1] + x_p2[2] + x_p2[3] + x_p2[4] + x_p2[5] + x_p2[6] + x_p2[7]))\n",
    "@constraint(modelo_problema_2, 0.013*x_p2[1] + 0.008*x_p2[2] + 0.004*x_p2[5] + 0.012*x_p2[6] <= 0.0165*(x_p2[1] + x_p2[2] + x_p2[3] + x_p2[4] + x_p2[5] + x_p2[6] + x_p2[7]))\n",
    "\n",
    "@constraint(modelo_problema_2, x_p2[1] + x_p2[2] + x_p2[3] + x_p2[4] + x_p2[5] + x_p2[6] + x_p2[7] == 500)\n",
    "\n",
    "@constraint(modelo_problema_2, 0 <= x_p2[1] <= 400)\n",
    "@constraint(modelo_problema_2, 0 <= x_p2[2] <= 300)\n",
    "@constraint(modelo_problema_2, 0 <= x_p2[3] <= 600)\n",
    "@constraint(modelo_problema_2, 0 <= x_p2[4] <= 500)\n",
    "@constraint(modelo_problema_2, 0 <= x_p2[5] <= 200)\n",
    "@constraint(modelo_problema_2, 0 <= x_p2[6] <= 300)\n",
    "@constraint(modelo_problema_2, 0 <= x_p2[7] <= 250)\n",
    "\n",
    "# Se encarga de resolver el modelo\n",
    "\n",
    "optimize!(modelo_problema_2)\n",
    "\n",
    "# Calcula el valor optimo del problema\n",
    "\n",
    "valorObjetivo_P2 = objective_value(modelo_problema_2)\n",
    "\n",
    "# # Entrega valor de estado de término del modelo. Donde los resultados que puede entregar son los siguientes\n",
    "#1 = óptimo\n",
    "#2 = infactible.\n",
    " \n",
    "termination_status(modelo_problema_2)\n",
    "\n",
    "# Se procede a mostrar la salida pedida para el problema en cuestión.\n",
    "\n",
    "print(\"El valor objetivo optimo de la funcion es: \")\n",
    "println(valorObjetivo_P2)\n",
    "\n",
    "for i in 1:7\n",
    "    println(\"Variable X\",i,\" = \",value(x_p2[i]))\n",
    "end"
   ]
  },
  {
   "cell_type": "markdown",
   "metadata": {},
   "source": [
    "$\\color{red}{\\text{Problema 3:}}$ $\\color{green}{\\text{Problema de planificación}}$ "
   ]
  },
  {
   "cell_type": "markdown",
   "metadata": {},
   "source": [
    "Se está prospectado una mina de uranio a cielo abierto. Sobre la base de los resultados de\n",
    "algunas perforaciones de prueba, la mina se ha subdividido en unidades de explotación\n",
    "denominadas bloques. Las excavaciones se deben realizar en forma aterrazada, con el fin de\n",
    "permitir la circulación de los camiones. El yacimiento se extiende de este a oeste, viéndose\n",
    "limitada por un pueblo y por un conjunto montañoso. Considerando estas limitaciones, se han\n",
    "identificado 18 bloques de 10.000 toneladas distribuidos en tres niveles. Para extraer un bloque,\n",
    "es necesario antes extraer tres bloques del nivel inmediatamente superior, siendo estos, el bloque\n",
    "superior y los ubicados a la derecha y a la izquierda de este. Ejemplo: Para extraer el bloque 16,\n",
    "antes se deben extraer los bloques 10, 11 y 12. "
   ]
  },
  {
   "cell_type": "code",
   "execution_count": null,
   "metadata": {},
   "outputs": [],
   "source": []
  },
  {
   "cell_type": "markdown",
   "metadata": {},
   "source": [
    "Extraer un bloque del nivel 1 tiene un costo de € 100 por tonelada, para un bloque del\n",
    "nivel 2 el costo es de € 200 por tonelada y de € 300 por tonelada para un bloque del nivel 3, con\n",
    "excepción de los bloques achurados, los cuales debido a su riqueza en cuarzo, presentan una roca\n",
    "más dura, elevando su costo de extracción a € 1000 por tonelada. Los únicos bloques que\n",
    "contienen uranio son los que aparecen en un gris (1, 7, 10, 12, 17 y 18), siendo sus valores de\n",
    "mercado de 200, 300, 500, 200, 1000 y € 1200 por tonelada, respectivamente. El bloque 18,\n",
    "aunque rico en mineral, es de composición dura, tal como los otros bloques achurados. ¿Qué\n",
    "bloques se debiesen extraer para maximizar el beneficio total? "
   ]
  },
  {
   "cell_type": "code",
   "execution_count": 21,
   "metadata": {},
   "outputs": [
    {
     "name": "stdout",
     "output_type": "stream",
     "text": [
      "El valor objetivo optimo de la funcion es: 400.0\n",
      "Bloque1 = 1.0\n",
      "Bloque2 = 1.0\n",
      "Bloque3 = 1.0\n",
      "Bloque4 = 1.0\n",
      "Bloque5 = 1.0\n",
      "Bloque6 = 1.0\n",
      "Bloque7 = 1.0\n",
      "Bloque8 = 0.0\n",
      "Bloque9 = 0.0\n",
      "Bloque10 = 1.0\n",
      "Bloque11 = 1.0\n",
      "Bloque12 = 1.0\n",
      "Bloque13 = 1.0\n",
      "Bloque14 = 0.0\n",
      "Bloque15 = 0.0\n",
      "Bloque16 = 0.0\n",
      "Bloque17 = 1.0\n",
      "Bloque18 = 0.0\n"
     ]
    }
   ],
   "source": [
    "# Realizamos la declaración para realizar el modelamiento del problema numero 3.\n",
    "\n",
    "modelo_problema_3 = Model(with_optimizer(GLPK.Optimizer))\n",
    "\n",
    "# Se realiza la declaracion de las variables que es van a utilizar dentro del problema.\n",
    "\n",
    "@variable(modelo_problema_3, x_p3[1:18], binary=true)\n",
    "\n",
    "Costos = [100 100 100 100 100 100 100 100 1000 200 200 200 200 1000 1000 1000 300 1000]\n",
    "Valores_Mercado = [200 0 0 0 0 0 300 0 0 500 0 200 0 0 0 0 1000 1200]\n",
    "\n",
    "# Se declara la función objetiva del problema.\n",
    "\n",
    "@objective(modelo_problema_3, Max, sum((Valores_Mercado[i]-Costos[i])*x_p3[i] for i in 1:18))\n",
    "\n",
    "# Se realiza la declaracion de cada una de las restricciones que tendra el problema.\n",
    "\n",
    "@constraint(modelo_problema_3, x_p3[9] <= x_p3[1])\n",
    "@constraint(modelo_problema_3, x_p3[9] <= x_p3[2])\n",
    "@constraint(modelo_problema_3, x_p3[9] <= x_p3[3])\n",
    "@constraint(modelo_problema_3, x_p3[10] <= x_p3[2])\n",
    "@constraint(modelo_problema_3, x_p3[10] <= x_p3[3])\n",
    "@constraint(modelo_problema_3, x_p3[10] <= x_p3[4])\n",
    "@constraint(modelo_problema_3, x_p3[11] <= x_p3[3])\n",
    "@constraint(modelo_problema_3, x_p3[11] <= x_p3[4])\n",
    "@constraint(modelo_problema_3, x_p3[11] <= x_p3[5])\n",
    "@constraint(modelo_problema_3, x_p3[12] <= x_p3[4])\n",
    "@constraint(modelo_problema_3, x_p3[12] <= x_p3[5])\n",
    "@constraint(modelo_problema_3, x_p3[12] <= x_p3[6])\n",
    "@constraint(modelo_problema_3, x_p3[13] <= x_p3[5])\n",
    "@constraint(modelo_problema_3, x_p3[13] <= x_p3[6])\n",
    "@constraint(modelo_problema_3, x_p3[13] <= x_p3[7])\n",
    "@constraint(modelo_problema_3, x_p3[14] <= x_p3[6])\n",
    "@constraint(modelo_problema_3, x_p3[14] <= x_p3[7])\n",
    "@constraint(modelo_problema_3, x_p3[14] <= x_p3[8])\n",
    "@constraint(modelo_problema_3, x_p3[15] <= x_p3[9])\n",
    "@constraint(modelo_problema_3, x_p3[15] <= x_p3[10])\n",
    "@constraint(modelo_problema_3, x_p3[15] <= x_p3[11])\n",
    "@constraint(modelo_problema_3, x_p3[16] <= x_p3[10])\n",
    "@constraint(modelo_problema_3, x_p3[16] <= x_p3[11])\n",
    "@constraint(modelo_problema_3, x_p3[16] <= x_p3[12])\n",
    "@constraint(modelo_problema_3, x_p3[17] <= x_p3[11])\n",
    "@constraint(modelo_problema_3, x_p3[17] <= x_p3[12])\n",
    "@constraint(modelo_problema_3, x_p3[17] <= x_p3[13])\n",
    "@constraint(modelo_problema_3, x_p3[18] <= x_p3[12])\n",
    "@constraint(modelo_problema_3, x_p3[18] <= x_p3[13])\n",
    "@constraint(modelo_problema_3, x_p3[18] <= x_p3[14])\n",
    "\n",
    "# Se encarga de resolver el modelo\n",
    "\n",
    "optimize!(modelo_problema_3)\n",
    "\n",
    "# Calcula el valor optimo del problema\n",
    "\n",
    "valorObjetivo_P3 = objective_value(modelo_problema_3)\n",
    "\n",
    "# # Entrega valor de estado de término del modelo. Donde los resultados que puede entregar son los siguientes\n",
    "#1 = óptimo\n",
    "#2 = infactible.\n",
    " \n",
    "termination_status(modelo_problema_3)\n",
    "\n",
    "# Se procede a mostrar la salida pedida para el problema en cuestión.\n",
    "\n",
    "print(\"El valor objetivo optimo de la funcion es: \")\n",
    "println(valorObjetivo_P3)\n",
    "\n",
    "for i in 1:18\n",
    "    println(\"Bloque\",i,\" = \",value(x_p3[i]))\n",
    "end"
   ]
  },
  {
   "cell_type": "markdown",
   "metadata": {},
   "source": [
    "$\\color{red}{\\text{Problema 4:}}$ $\\color{green}{\\text{Problema de programación}}$ "
   ]
  },
  {
   "cell_type": "markdown",
   "metadata": {},
   "source": [
    "Un departamento de informática de una pequeña universidad se encuentra programando\n",
    "los exámenes finales que deberán ser rendidos por diferentes grupos de estudiantes. La principal\n",
    "condición en la confección del calendario es que todos los grupos de alumnos puedan rendir sus\n",
    "exámenes sin traslapes de horario. Los siete exámenes que se deben programar se han etiquetado\n",
    "desde ID1 hasta ID7. La tabla nro. 4 relaciona los exámenes que presentan a lo menos un alumno\n",
    "en común en sus nóminas. ¿Cuál es el calendario de exámenes que minimiza el número de\n",
    "períodos de tiempo utilizados? "
   ]
  },
  {
   "cell_type": "code",
   "execution_count": null,
   "metadata": {},
   "outputs": [],
   "source": []
  },
  {
   "cell_type": "code",
   "execution_count": 26,
   "metadata": {},
   "outputs": [
    {
     "name": "stdout",
     "output_type": "stream",
     "text": [
      "El valor objetivo optimo de la funcion es: 4.0\n",
      "Examen 1 = 1.0\n",
      "Examen 2 = 0.0\n",
      "Examen 3 = 0.0\n",
      "Examen 4 = 1.0\n",
      "Examen 5 = 0.0\n",
      "Examen 6 = 1.0\n",
      "Examen 7 = 1.0\n"
     ]
    }
   ],
   "source": [
    "# Realizamos la declaración para realizar el modelamiento del problema numero 4.\n",
    "\n",
    "modelo_problema_4 = Model(with_optimizer(GLPK.Optimizer))\n",
    "\n",
    "# Se realiza la declaracion de las variables que es van a utilizar dentro del problema.\n",
    "\n",
    "@variable(modelo_problema_4, y_p4[1:7], binary=true)\n",
    "@variable(modelo_problema_4, x_p4[1:7, 1:7], binary=true)\n",
    "Calendario_inicial = [0 1 1 1 0 0 1;\n",
    "                     1 0 1 1 1 0 1;\n",
    "                     1 1 0 1 0 1 1;\n",
    "                     1 1 1 0 1 1 0;\n",
    "                     0 1 0 1 0 1 1;\n",
    "                     0 0 1 1 1 0 1;\n",
    "                     1 1 1 0 1 1 0]\n",
    "\n",
    "# Se declara la función objetiva del problema.\n",
    "\n",
    "@objective(modelo_problema_4, Min, sum(y_p4[i] for i in 1:7))\n",
    "\n",
    "# Se realiza la declaracion de cada una de las restricciones que tendra el problema.\n",
    "\n",
    "for count in 1:7\n",
    "    @constraint(modelo_problema_4, sum(x_p4[count,i] for i in 1:7) == 1)\n",
    "end\n",
    "\n",
    "\n",
    "for fila in 1:7\n",
    "    for columna in 1:7\n",
    "        if(Calendario_inicial[fila,columna] == 1)\n",
    "            for j in 1:7\n",
    "                @constraint(modelo_problema_4, x_p4[fila,j] + x_p4[columna, j] <= 1)\n",
    "            end\n",
    "        end\n",
    "    end\n",
    "end\n",
    "\n",
    "\n",
    "for i in 1:7\n",
    "    for j in 1:7\n",
    "        @constraint(modelo_problema_4, x_p4[i,j] - y_p4[j] <= 0)\n",
    "    end\n",
    "end\n",
    "\n",
    "# Comprobamos el modelo que se declaro hasta el momento\n",
    "\n",
    "#println(modelo_problema_4)\n",
    "\n",
    "# Se encarga de resolver el modelo\n",
    "\n",
    "optimize!(modelo_problema_4)\n",
    "\n",
    "# Calcula el valor optimo del problema\n",
    "\n",
    "valorObjetivo_P4 = objective_value(modelo_problema_4)\n",
    "\n",
    "# # Entrega valor de estado de término del modelo. Donde los resultados que puede entregar son los siguientes\n",
    "#1 = óptimo\n",
    "#2 = infactible.\n",
    " \n",
    "termination_status(modelo_problema_4)\n",
    "\n",
    "# Se procede a mostrar la salida pedida para el problema en cuestión.\n",
    "\n",
    "print(\"El valor objetivo optimo de la funcion es: \")\n",
    "println(valorObjetivo_P4)\n",
    "\n",
    "for i in 1:7\n",
    "    println(\"Examen \",i,\" = \",value(y_p4[i]))\n",
    "end"
   ]
  }
 ],
 "metadata": {
  "kernelspec": {
   "display_name": "Julia 1.1.1",
   "language": "julia",
   "name": "julia-1.1"
  },
  "language_info": {
   "file_extension": ".jl",
   "mimetype": "application/julia",
   "name": "julia",
   "version": "1.1.1"
  }
 },
 "nbformat": 4,
 "nbformat_minor": 2
}
